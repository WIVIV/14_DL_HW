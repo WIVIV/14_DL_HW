{
 "cells": [
  {
   "cell_type": "markdown",
   "metadata": {},
   "source": [
    "# LSTM Stock Predictor Using Fear and Greed Index\n",
    "\n",
    "In this notebook, you will build and train a custom LSTM RNN that uses a 10 day window of Bitcoin fear and greed index values to predict the 11th day closing price. \n",
    "\n",
    "You will need to:\n",
    "\n",
    "1. Prepare the data for training and testing\n",
    "2. Build and train a custom LSTM RNN\n",
    "3. Evaluate the performance of the model"
   ]
  },
  {
   "cell_type": "markdown",
   "metadata": {},
   "source": [
    "## Data Preparation\n",
    "\n",
    "In this section, you will need to prepare the training and testing data for the model. The model will use a rolling 10 day window to predict the 11th day closing price.\n",
    "\n",
    "You will need to:\n",
    "1. Use the `window_data` function to generate the X and y values for the model.\n",
    "2. Split the data into 70% training and 30% testing\n",
    "3. Apply the MinMaxScaler to the X and y values\n",
    "4. Reshape the X_train and X_test data for the model. Note: The required input format for the LSTM is:\n",
    "\n",
    "```python\n",
    "reshape((X_train.shape[0], X_train.shape[1], 1))\n",
    "```"
   ]
  },
  {
   "cell_type": "code",
   "execution_count": 45,
   "metadata": {},
   "outputs": [],
   "source": [
    "import numpy as np\n",
    "import pandas as pd\n",
    "import hvplot.pandas\n",
    "\n",
    "%matplotlib inline"
   ]
  },
  {
   "cell_type": "code",
   "execution_count": 46,
   "metadata": {},
   "outputs": [],
   "source": [
    "#set paramters for easier adjusting\n",
    "window_size = 3\n",
    "number_units = 30\n",
    "dropout_fraction = 0.2\n",
    "epoch_number = 100"
   ]
  },
  {
   "cell_type": "code",
   "execution_count": 47,
   "metadata": {},
   "outputs": [],
   "source": [
    "# Set the random seed for reproducibility\n",
    "# Note: This is for the homework solution, but it is good practice to comment this out and run multiple experiments to evaluate your model\n",
    "from numpy.random import seed\n",
    "seed(1)\n",
    "from tensorflow import random\n",
    "random.set_seed(2)"
   ]
  },
  {
   "cell_type": "code",
   "execution_count": 48,
   "metadata": {},
   "outputs": [
    {
     "data": {
      "text/html": [
       "<div>\n",
       "<style scoped>\n",
       "    .dataframe tbody tr th:only-of-type {\n",
       "        vertical-align: middle;\n",
       "    }\n",
       "\n",
       "    .dataframe tbody tr th {\n",
       "        vertical-align: top;\n",
       "    }\n",
       "\n",
       "    .dataframe thead th {\n",
       "        text-align: right;\n",
       "    }\n",
       "</style>\n",
       "<table border=\"1\" class=\"dataframe\">\n",
       "  <thead>\n",
       "    <tr style=\"text-align: right;\">\n",
       "      <th></th>\n",
       "      <th>fng_value</th>\n",
       "    </tr>\n",
       "    <tr>\n",
       "      <th>date</th>\n",
       "      <th></th>\n",
       "    </tr>\n",
       "  </thead>\n",
       "  <tbody>\n",
       "    <tr>\n",
       "      <td>2019-07-29</td>\n",
       "      <td>19</td>\n",
       "    </tr>\n",
       "    <tr>\n",
       "      <td>2019-07-28</td>\n",
       "      <td>16</td>\n",
       "    </tr>\n",
       "    <tr>\n",
       "      <td>2019-07-27</td>\n",
       "      <td>47</td>\n",
       "    </tr>\n",
       "    <tr>\n",
       "      <td>2019-07-26</td>\n",
       "      <td>24</td>\n",
       "    </tr>\n",
       "    <tr>\n",
       "      <td>2019-07-25</td>\n",
       "      <td>42</td>\n",
       "    </tr>\n",
       "  </tbody>\n",
       "</table>\n",
       "</div>"
      ],
      "text/plain": [
       "             fng_value\n",
       "date                  \n",
       "2019-07-29          19\n",
       "2019-07-28          16\n",
       "2019-07-27          47\n",
       "2019-07-26          24\n",
       "2019-07-25          42"
      ]
     },
     "execution_count": 48,
     "metadata": {},
     "output_type": "execute_result"
    }
   ],
   "source": [
    "# Load the fear and greed sentiment data for Bitcoin\n",
    "df = pd.read_csv('btc_sentiment.csv', index_col=\"date\", infer_datetime_format=True, parse_dates=True)\n",
    "df = df.drop(columns=\"fng_classification\")\n",
    "df.head()"
   ]
  },
  {
   "cell_type": "code",
   "execution_count": 49,
   "metadata": {},
   "outputs": [
    {
     "data": {
      "text/plain": [
       "Date\n",
       "2019-07-25    9882.429688\n",
       "2019-07-26    9847.450195\n",
       "2019-07-27    9478.320313\n",
       "2019-07-28    9531.769531\n",
       "2019-07-29    9529.889648\n",
       "Name: Close, dtype: float64"
      ]
     },
     "execution_count": 49,
     "metadata": {},
     "output_type": "execute_result"
    }
   ],
   "source": [
    "# Load the historical closing prices for Bitcoin\n",
    "df2 = pd.read_csv('btc_historic.csv', index_col=\"Date\", infer_datetime_format=True, parse_dates=True)['Close']\n",
    "df2 = df2.sort_index()\n",
    "df2.tail()"
   ]
  },
  {
   "cell_type": "code",
   "execution_count": 50,
   "metadata": {},
   "outputs": [
    {
     "data": {
      "text/html": [
       "<div>\n",
       "<style scoped>\n",
       "    .dataframe tbody tr th:only-of-type {\n",
       "        vertical-align: middle;\n",
       "    }\n",
       "\n",
       "    .dataframe tbody tr th {\n",
       "        vertical-align: top;\n",
       "    }\n",
       "\n",
       "    .dataframe thead th {\n",
       "        text-align: right;\n",
       "    }\n",
       "</style>\n",
       "<table border=\"1\" class=\"dataframe\">\n",
       "  <thead>\n",
       "    <tr style=\"text-align: right;\">\n",
       "      <th></th>\n",
       "      <th>fng_value</th>\n",
       "      <th>Close</th>\n",
       "    </tr>\n",
       "  </thead>\n",
       "  <tbody>\n",
       "    <tr>\n",
       "      <td>2019-07-25</td>\n",
       "      <td>42</td>\n",
       "      <td>9882.429688</td>\n",
       "    </tr>\n",
       "    <tr>\n",
       "      <td>2019-07-26</td>\n",
       "      <td>24</td>\n",
       "      <td>9847.450195</td>\n",
       "    </tr>\n",
       "    <tr>\n",
       "      <td>2019-07-27</td>\n",
       "      <td>47</td>\n",
       "      <td>9478.320313</td>\n",
       "    </tr>\n",
       "    <tr>\n",
       "      <td>2019-07-28</td>\n",
       "      <td>16</td>\n",
       "      <td>9531.769531</td>\n",
       "    </tr>\n",
       "    <tr>\n",
       "      <td>2019-07-29</td>\n",
       "      <td>19</td>\n",
       "      <td>9529.889648</td>\n",
       "    </tr>\n",
       "  </tbody>\n",
       "</table>\n",
       "</div>"
      ],
      "text/plain": [
       "             fng_value        Close\n",
       "2019-07-25          42  9882.429688\n",
       "2019-07-26          24  9847.450195\n",
       "2019-07-27          47  9478.320313\n",
       "2019-07-28          16  9531.769531\n",
       "2019-07-29          19  9529.889648"
      ]
     },
     "execution_count": 50,
     "metadata": {},
     "output_type": "execute_result"
    }
   ],
   "source": [
    "# Join the data into a single DataFrame\n",
    "df = df.join(df2, how=\"inner\")\n",
    "df.tail()"
   ]
  },
  {
   "cell_type": "code",
   "execution_count": 51,
   "metadata": {},
   "outputs": [
    {
     "data": {
      "text/html": [
       "<div>\n",
       "<style scoped>\n",
       "    .dataframe tbody tr th:only-of-type {\n",
       "        vertical-align: middle;\n",
       "    }\n",
       "\n",
       "    .dataframe tbody tr th {\n",
       "        vertical-align: top;\n",
       "    }\n",
       "\n",
       "    .dataframe thead th {\n",
       "        text-align: right;\n",
       "    }\n",
       "</style>\n",
       "<table border=\"1\" class=\"dataframe\">\n",
       "  <thead>\n",
       "    <tr style=\"text-align: right;\">\n",
       "      <th></th>\n",
       "      <th>fng_value</th>\n",
       "      <th>Close</th>\n",
       "    </tr>\n",
       "  </thead>\n",
       "  <tbody>\n",
       "    <tr>\n",
       "      <td>2018-02-01</td>\n",
       "      <td>30</td>\n",
       "      <td>9114.719727</td>\n",
       "    </tr>\n",
       "    <tr>\n",
       "      <td>2018-02-02</td>\n",
       "      <td>15</td>\n",
       "      <td>8870.820313</td>\n",
       "    </tr>\n",
       "    <tr>\n",
       "      <td>2018-02-03</td>\n",
       "      <td>40</td>\n",
       "      <td>9251.269531</td>\n",
       "    </tr>\n",
       "    <tr>\n",
       "      <td>2018-02-04</td>\n",
       "      <td>24</td>\n",
       "      <td>8218.049805</td>\n",
       "    </tr>\n",
       "    <tr>\n",
       "      <td>2018-02-05</td>\n",
       "      <td>11</td>\n",
       "      <td>6937.080078</td>\n",
       "    </tr>\n",
       "  </tbody>\n",
       "</table>\n",
       "</div>"
      ],
      "text/plain": [
       "             fng_value        Close\n",
       "2018-02-01          30  9114.719727\n",
       "2018-02-02          15  8870.820313\n",
       "2018-02-03          40  9251.269531\n",
       "2018-02-04          24  8218.049805\n",
       "2018-02-05          11  6937.080078"
      ]
     },
     "execution_count": 51,
     "metadata": {},
     "output_type": "execute_result"
    }
   ],
   "source": [
    "df.head()"
   ]
  },
  {
   "cell_type": "code",
   "execution_count": 52,
   "metadata": {},
   "outputs": [],
   "source": [
    "# This function accepts the column number for the features (X) and the target (y)\n",
    "# It chunks the data up with a rolling window of Xt-n to predict Xt\n",
    "# It returns a numpy array of X any y\n",
    "def window_data(df, window, feature_col_number, target_col_number):\n",
    "    X = []\n",
    "    y = []\n",
    "    for i in range(len(df) - window - 1):\n",
    "        features = df.iloc[i:(i + window), feature_col_number]\n",
    "        target = df.iloc[(i + window), target_col_number]\n",
    "        X.append(features)\n",
    "        y.append(target)\n",
    "    return np.array(X), np.array(y).reshape(-1, 1)"
   ]
  },
  {
   "cell_type": "code",
   "execution_count": 53,
   "metadata": {},
   "outputs": [],
   "source": [
    "# Predict Closing Prices using a 10 day window of fear and greed index values and a target of the 11th day closing price\n",
    "# Try a window size anywhere from 1 to 10 and see how the model performance changes\n",
    "#window_size = 1\n",
    "\n",
    "# Column index 1 is the `Close` column\n",
    "feature_column = 0\n",
    "target_column = 1\n",
    "X, y = window_data(df, window_size, feature_column, target_column)"
   ]
  },
  {
   "cell_type": "code",
   "execution_count": 54,
   "metadata": {},
   "outputs": [],
   "source": [
    "# Use 70% of the data for training and the remainder for testing\n",
    "# YOUR CODE HERE!\n",
    "split = int(0.7 * len(X))\n",
    "X_train = X[: split - 1]\n",
    "X_test = X[split:]\n",
    "y_train = y[: split - 1]\n",
    "y_test = y[split:]"
   ]
  },
  {
   "cell_type": "code",
   "execution_count": 55,
   "metadata": {},
   "outputs": [],
   "source": [
    "# Use MinMaxScaler to scale the data between 0 and 1. \n",
    "# YOUR CODE HERE!\n",
    "from sklearn.preprocessing import MinMaxScaler\n",
    "\n",
    "scaler = MinMaxScaler()\n",
    "scaler.fit(X)\n",
    "X_train = scaler.transform(X_train)\n",
    "X_test = scaler.transform(X_test)\n",
    "scaler.fit(y)\n",
    "y_train = scaler.transform(y_train)\n",
    "y_test = scaler.transform(y_test)"
   ]
  },
  {
   "cell_type": "code",
   "execution_count": 56,
   "metadata": {},
   "outputs": [
    {
     "name": "stdout",
     "output_type": "stream",
     "text": [
      "X_train sample values:\n",
      "[[[0.25287356]\n",
      "  [0.08045977]\n",
      "  [0.36781609]]\n",
      "\n",
      " [[0.08045977]\n",
      "  [0.36781609]\n",
      "  [0.18390805]]\n",
      "\n",
      " [[0.36781609]\n",
      "  [0.18390805]\n",
      "  [0.03448276]]\n",
      "\n",
      " [[0.18390805]\n",
      "  [0.03448276]\n",
      "  [0.        ]]\n",
      "\n",
      " [[0.03448276]\n",
      "  [0.        ]\n",
      "  [0.32183908]]] \n",
      "\n",
      "X_test sample values:\n",
      "[[[0.40229885]\n",
      "  [0.40229885]\n",
      "  [0.37931034]]\n",
      "\n",
      " [[0.40229885]\n",
      "  [0.37931034]\n",
      "  [0.34482759]]\n",
      "\n",
      " [[0.37931034]\n",
      "  [0.34482759]\n",
      "  [0.63218391]]\n",
      "\n",
      " [[0.34482759]\n",
      "  [0.63218391]\n",
      "  [0.65517241]]\n",
      "\n",
      " [[0.63218391]\n",
      "  [0.65517241]\n",
      "  [0.5862069 ]]]\n"
     ]
    }
   ],
   "source": [
    "# Reshape the features for the model\n",
    "# YOUR CODE HERE!\n",
    "X_train = X_train.reshape((X_train.shape[0], X_train.shape[1], 1))\n",
    "X_test = X_test.reshape((X_test.shape[0], X_test.shape[1], 1))\n",
    "print (f\"X_train sample values:\\n{X_train[:5]} \\n\")\n",
    "print (f\"X_test sample values:\\n{X_test[:5]}\")"
   ]
  },
  {
   "cell_type": "markdown",
   "metadata": {},
   "source": [
    "---"
   ]
  },
  {
   "cell_type": "markdown",
   "metadata": {},
   "source": [
    "## Build and Train the LSTM RNN\n",
    "\n",
    "In this section, you will design a custom LSTM RNN and fit (train) it using the training data.\n",
    "\n",
    "You will need to:\n",
    "1. Define the model architecture\n",
    "2. Compile the model\n",
    "3. Fit the model to the training data\n",
    "\n",
    "### Hints:\n",
    "You will want to use the same model architecture and random seed for both notebooks. This is necessary to accurately compare the performance of the FNG model vs the closing price model. "
   ]
  },
  {
   "cell_type": "code",
   "execution_count": 57,
   "metadata": {},
   "outputs": [],
   "source": [
    "from tensorflow.keras.models import Sequential\n",
    "from tensorflow.keras.layers import LSTM, Dense, Dropout"
   ]
  },
  {
   "cell_type": "code",
   "execution_count": 58,
   "metadata": {},
   "outputs": [],
   "source": [
    "# Build the LSTM model. \n",
    "# The return sequences need to be set to True if you are adding additional LSTM layers, but \n",
    "# You don't have to do this for the final layer. \n",
    "# YOUR CODE HERE!\n",
    "\n",
    "model = Sequential()\n",
    "\n",
    "# Layer 1\n",
    "model.add(LSTM(\n",
    "    units=number_units,\n",
    "    return_sequences=True,\n",
    "    input_shape=(X_train.shape[1], 1))\n",
    "    )\n",
    "model.add(Dropout(dropout_fraction))\n",
    "# Layer 2\n",
    "model.add(LSTM(units=number_units, return_sequences=True))\n",
    "model.add(Dropout(dropout_fraction))\n",
    "# Layer 3\n",
    "model.add(LSTM(units=number_units))\n",
    "model.add(Dropout(dropout_fraction))\n",
    "# Output layer\n",
    "model.add(Dense(1))"
   ]
  },
  {
   "cell_type": "code",
   "execution_count": 59,
   "metadata": {},
   "outputs": [],
   "source": [
    "# Compile the model\n",
    "# YOUR CODE HERE!\n",
    "model.compile(optimizer=\"adam\", loss=\"mean_squared_error\")"
   ]
  },
  {
   "cell_type": "code",
   "execution_count": 60,
   "metadata": {},
   "outputs": [
    {
     "name": "stdout",
     "output_type": "stream",
     "text": [
      "Model: \"sequential_2\"\n",
      "_________________________________________________________________\n",
      "Layer (type)                 Output Shape              Param #   \n",
      "=================================================================\n",
      "lstm_6 (LSTM)                (None, 3, 30)             3840      \n",
      "_________________________________________________________________\n",
      "dropout_6 (Dropout)          (None, 3, 30)             0         \n",
      "_________________________________________________________________\n",
      "lstm_7 (LSTM)                (None, 3, 30)             7320      \n",
      "_________________________________________________________________\n",
      "dropout_7 (Dropout)          (None, 3, 30)             0         \n",
      "_________________________________________________________________\n",
      "lstm_8 (LSTM)                (None, 30)                7320      \n",
      "_________________________________________________________________\n",
      "dropout_8 (Dropout)          (None, 30)                0         \n",
      "_________________________________________________________________\n",
      "dense_2 (Dense)              (None, 1)                 31        \n",
      "=================================================================\n",
      "Total params: 18,511\n",
      "Trainable params: 18,511\n",
      "Non-trainable params: 0\n",
      "_________________________________________________________________\n"
     ]
    }
   ],
   "source": [
    "# Summarize the model\n",
    "# YOUR CODE HERE!\n",
    "model.summary()"
   ]
  },
  {
   "cell_type": "code",
   "execution_count": 61,
   "metadata": {},
   "outputs": [
    {
     "name": "stdout",
     "output_type": "stream",
     "text": [
      "Train on 376 samples\n",
      "Epoch 1/100\n",
      "376/376 [==============================] - 5s 14ms/sample - loss: 0.0322\n",
      "Epoch 2/100\n",
      "376/376 [==============================] - 2s 5ms/sample - loss: 0.0221\n",
      "Epoch 3/100\n",
      "376/376 [==============================] - 2s 5ms/sample - loss: 0.0258\n",
      "Epoch 4/100\n",
      "376/376 [==============================] - 2s 5ms/sample - loss: 0.0241\n",
      "Epoch 5/100\n",
      "376/376 [==============================] - 2s 5ms/sample - loss: 0.0243\n",
      "Epoch 6/100\n",
      "376/376 [==============================] - 2s 5ms/sample - loss: 0.0240\n",
      "Epoch 7/100\n",
      "376/376 [==============================] - 2s 5ms/sample - loss: 0.0246\n",
      "Epoch 8/100\n",
      "376/376 [==============================] - 2s 5ms/sample - loss: 0.0240\n",
      "Epoch 9/100\n",
      "376/376 [==============================] - 2s 5ms/sample - loss: 0.0266\n",
      "Epoch 10/100\n",
      "376/376 [==============================] - 2s 5ms/sample - loss: 0.0271\n",
      "Epoch 11/100\n",
      "376/376 [==============================] - 2s 5ms/sample - loss: 0.0288\n",
      "Epoch 12/100\n",
      "376/376 [==============================] - 2s 6ms/sample - loss: 0.0297\n",
      "Epoch 13/100\n",
      "376/376 [==============================] - 2s 6ms/sample - loss: 0.0308\n",
      "Epoch 14/100\n",
      "376/376 [==============================] - 2s 6ms/sample - loss: 0.0302\n",
      "Epoch 15/100\n",
      "376/376 [==============================] - 2s 6ms/sample - loss: 0.0320\n",
      "Epoch 16/100\n",
      "376/376 [==============================] - 2s 6ms/sample - loss: 0.0329\n",
      "Epoch 17/100\n",
      "376/376 [==============================] - 2s 6ms/sample - loss: 0.0332\n",
      "Epoch 18/100\n",
      "376/376 [==============================] - 2s 6ms/sample - loss: 0.0343\n",
      "Epoch 19/100\n",
      "376/376 [==============================] - 2s 6ms/sample - loss: 0.0334\n",
      "Epoch 20/100\n",
      "376/376 [==============================] - 2s 6ms/sample - loss: 0.0336\n",
      "Epoch 21/100\n",
      "376/376 [==============================] - ETA: 0s - loss: 0.034 - 2s 5ms/sample - loss: 0.0338\n",
      "Epoch 22/100\n",
      "376/376 [==============================] - 2s 5ms/sample - loss: 0.0351\n",
      "Epoch 23/100\n",
      "376/376 [==============================] - 2s 6ms/sample - loss: 0.0328\n",
      "Epoch 24/100\n",
      "376/376 [==============================] - 2s 6ms/sample - loss: 0.0344\n",
      "Epoch 25/100\n",
      "376/376 [==============================] - 2s 6ms/sample - loss: 0.0337\n",
      "Epoch 26/100\n",
      "376/376 [==============================] - 2s 6ms/sample - loss: 0.0352\n",
      "Epoch 27/100\n",
      "376/376 [==============================] - 2s 6ms/sample - loss: 0.0344\n",
      "Epoch 28/100\n",
      "376/376 [==============================] - 2s 7ms/sample - loss: 0.0344\n",
      "Epoch 29/100\n",
      "376/376 [==============================] - 2s 6ms/sample - loss: 0.0349\n",
      "Epoch 30/100\n",
      "376/376 [==============================] - 2s 6ms/sample - loss: 0.0336\n",
      "Epoch 31/100\n",
      "376/376 [==============================] - 2s 6ms/sample - loss: 0.0338\n",
      "Epoch 32/100\n",
      "376/376 [==============================] - 2s 6ms/sample - loss: 0.0334\n",
      "Epoch 33/100\n",
      "376/376 [==============================] - 2s 6ms/sample - loss: 0.0334\n",
      "Epoch 34/100\n",
      "376/376 [==============================] - 2s 6ms/sample - loss: 0.0336\n",
      "Epoch 35/100\n",
      "376/376 [==============================] - 2s 6ms/sample - loss: 0.0329\n",
      "Epoch 36/100\n",
      "376/376 [==============================] - 2s 6ms/sample - loss: 0.0333\n",
      "Epoch 37/100\n",
      "376/376 [==============================] - 2s 6ms/sample - loss: 0.0317\n",
      "Epoch 38/100\n",
      "376/376 [==============================] - 2s 6ms/sample - loss: 0.0335\n",
      "Epoch 39/100\n",
      "376/376 [==============================] - 2s 6ms/sample - loss: 0.0330\n",
      "Epoch 40/100\n",
      "376/376 [==============================] - 2s 6ms/sample - loss: 0.0321\n",
      "Epoch 41/100\n",
      "376/376 [==============================] - 2s 6ms/sample - loss: 0.0334\n",
      "Epoch 42/100\n",
      "376/376 [==============================] - 2s 6ms/sample - loss: 0.0339\n",
      "Epoch 43/100\n",
      "376/376 [==============================] - 2s 6ms/sample - loss: 0.0339\n",
      "Epoch 44/100\n",
      "376/376 [==============================] - 2s 6ms/sample - loss: 0.0323\n",
      "Epoch 45/100\n",
      "376/376 [==============================] - 2s 6ms/sample - loss: 0.0328\n",
      "Epoch 46/100\n",
      "376/376 [==============================] - 2s 6ms/sample - loss: 0.0341\n",
      "Epoch 47/100\n",
      "376/376 [==============================] - 2s 6ms/sample - loss: 0.0322\n",
      "Epoch 48/100\n",
      "376/376 [==============================] - 2s 6ms/sample - loss: 0.0324\n",
      "Epoch 49/100\n",
      "376/376 [==============================] - 2s 6ms/sample - loss: 0.0324\n",
      "Epoch 50/100\n",
      "376/376 [==============================] - 2s 6ms/sample - loss: 0.0319\n",
      "Epoch 51/100\n",
      "376/376 [==============================] - 2s 6ms/sample - loss: 0.0337\n",
      "Epoch 52/100\n",
      "376/376 [==============================] - 2s 6ms/sample - loss: 0.0323\n",
      "Epoch 53/100\n",
      "376/376 [==============================] - 2s 6ms/sample - loss: 0.0336\n",
      "Epoch 54/100\n",
      "376/376 [==============================] - 2s 6ms/sample - loss: 0.0331\n",
      "Epoch 55/100\n",
      "376/376 [==============================] - 2s 6ms/sample - loss: 0.0334\n",
      "Epoch 56/100\n",
      "376/376 [==============================] - 2s 6ms/sample - loss: 0.0324\n",
      "Epoch 57/100\n",
      "376/376 [==============================] - 2s 6ms/sample - loss: 0.0317\n",
      "Epoch 58/100\n",
      "376/376 [==============================] - 2s 6ms/sample - loss: 0.0324\n",
      "Epoch 59/100\n",
      "376/376 [==============================] - 2s 6ms/sample - loss: 0.0330\n",
      "Epoch 60/100\n",
      "376/376 [==============================] - 2s 6ms/sample - loss: 0.0334\n",
      "Epoch 61/100\n",
      "376/376 [==============================] - 2s 6ms/sample - loss: 0.0337\n",
      "Epoch 62/100\n",
      "376/376 [==============================] - 2s 6ms/sample - loss: 0.0328\n",
      "Epoch 63/100\n",
      "376/376 [==============================] - 2s 6ms/sample - loss: 0.0327\n",
      "Epoch 64/100\n",
      "376/376 [==============================] - 2s 6ms/sample - loss: 0.0325\n",
      "Epoch 65/100\n",
      "376/376 [==============================] - 2s 6ms/sample - loss: 0.0330\n",
      "Epoch 66/100\n",
      "376/376 [==============================] - 2s 6ms/sample - loss: 0.0327\n",
      "Epoch 67/100\n",
      "376/376 [==============================] - 3s 7ms/sample - loss: 0.0331\n",
      "Epoch 68/100\n",
      "376/376 [==============================] - 3s 7ms/sample - loss: 0.0324\n",
      "Epoch 69/100\n",
      "376/376 [==============================] - 2s 6ms/sample - loss: 0.0321\n",
      "Epoch 70/100\n",
      "376/376 [==============================] - 2s 5ms/sample - loss: 0.0322\n",
      "Epoch 71/100\n",
      "376/376 [==============================] - 2s 6ms/sample - loss: 0.0325\n",
      "Epoch 72/100\n",
      "376/376 [==============================] - 2s 6ms/sample - loss: 0.0317\n",
      "Epoch 73/100\n",
      "376/376 [==============================] - 3s 7ms/sample - loss: 0.0325\n",
      "Epoch 74/100\n",
      "376/376 [==============================] - 2s 6ms/sample - loss: 0.0326\n",
      "Epoch 75/100\n",
      "376/376 [==============================] - 2s 6ms/sample - loss: 0.0330\n",
      "Epoch 76/100\n",
      "376/376 [==============================] - 2s 6ms/sample - loss: 0.0333\n",
      "Epoch 77/100\n",
      "376/376 [==============================] - 2s 6ms/sample - loss: 0.0326\n",
      "Epoch 78/100\n",
      "376/376 [==============================] - 2s 6ms/sample - loss: 0.0316\n",
      "Epoch 79/100\n",
      "376/376 [==============================] - 2s 6ms/sample - loss: 0.0318\n",
      "Epoch 80/100\n",
      "376/376 [==============================] - 2s 6ms/sample - loss: 0.0323\n",
      "Epoch 81/100\n",
      "376/376 [==============================] - 2s 6ms/sample - loss: 0.0322\n",
      "Epoch 82/100\n",
      "376/376 [==============================] - 2s 6ms/sample - loss: 0.0328\n",
      "Epoch 83/100\n",
      "376/376 [==============================] - 3s 7ms/sample - loss: 0.0325\n",
      "Epoch 84/100\n",
      "376/376 [==============================] - 3s 7ms/sample - loss: 0.0327\n",
      "Epoch 85/100\n",
      "376/376 [==============================] - 2s 6ms/sample - loss: 0.0324\n",
      "Epoch 86/100\n",
      "376/376 [==============================] - 2s 6ms/sample - loss: 0.0333\n",
      "Epoch 87/100\n",
      "376/376 [==============================] - 2s 6ms/sample - loss: 0.0332\n",
      "Epoch 88/100\n",
      "376/376 [==============================] - 2s 6ms/sample - loss: 0.0319\n",
      "Epoch 89/100\n",
      "376/376 [==============================] - 2s 6ms/sample - loss: 0.0323\n",
      "Epoch 90/100\n",
      "376/376 [==============================] - 2s 6ms/sample - loss: 0.0316\n",
      "Epoch 91/100\n",
      "376/376 [==============================] - 2s 6ms/sample - loss: 0.0320\n",
      "Epoch 92/100\n",
      "376/376 [==============================] - 2s 6ms/sample - loss: 0.0329\n",
      "Epoch 93/100\n",
      "376/376 [==============================] - 2s 6ms/sample - loss: 0.0332\n",
      "Epoch 94/100\n",
      "376/376 [==============================] - 2s 6ms/sample - loss: 0.0320\n",
      "Epoch 95/100\n",
      "376/376 [==============================] - 2s 6ms/sample - loss: 0.0319\n",
      "Epoch 96/100\n",
      "376/376 [==============================] - 2s 6ms/sample - loss: 0.0327\n",
      "Epoch 97/100\n",
      "376/376 [==============================] - 2s 6ms/sample - loss: 0.0335\n",
      "Epoch 98/100\n",
      "376/376 [==============================] - 2s 6ms/sample - loss: 0.0326\n",
      "Epoch 99/100\n",
      "376/376 [==============================] - 2s 6ms/sample - loss: 0.0317\n",
      "Epoch 100/100\n",
      "376/376 [==============================] - 2s 6ms/sample - loss: 0.0327\n"
     ]
    },
    {
     "data": {
      "text/plain": [
       "<tensorflow.python.keras.callbacks.History at 0x28daaca0e80>"
      ]
     },
     "execution_count": 61,
     "metadata": {},
     "output_type": "execute_result"
    }
   ],
   "source": [
    "# Train the model\n",
    "# Use at least 10 epochs\n",
    "# Do not shuffle the data\n",
    "# Experiement with the batch size, but a smaller batch size is recommended\n",
    "# YOUR CODE HERE!\n",
    "model.fit(X_train, y_train, epochs= epoch_number, shuffle=False, batch_size=1, verbose=1)"
   ]
  },
  {
   "cell_type": "markdown",
   "metadata": {},
   "source": [
    "---"
   ]
  },
  {
   "cell_type": "markdown",
   "metadata": {},
   "source": [
    "## Model Performance\n",
    "\n",
    "In this section, you will evaluate the model using the test data. \n",
    "\n",
    "You will need to:\n",
    "1. Evaluate the model using the `X_test` and `y_test` data.\n",
    "2. Use the X_test data to make predictions\n",
    "3. Create a DataFrame of Real (y_test) vs predicted values. \n",
    "4. Plot the Real vs predicted values as a line chart\n",
    "\n",
    "### Hints\n",
    "Remember to apply the `inverse_transform` function to the predicted and y_test values to recover the actual closing prices."
   ]
  },
  {
   "cell_type": "code",
   "execution_count": 62,
   "metadata": {},
   "outputs": [
    {
     "name": "stdout",
     "output_type": "stream",
     "text": [
      "162/1 [============================================================================================================================================================================================================================================================================================================================================================================================================================================================================================================================================================================================================================================================================================================================================================================================================================================================================================================================================================================================================================================================================================================================================================================================================================================================================================================================================================================================================================================================================================================================================================================================================================================================================================================================================================================================================================================================================================================================================================================================================================================================================================================================================================================================================================================================================================================================================================================================================================================================================================================================================================================================================================================================================================================================================================================================================================================================================================================================================================================================================================================================================================================================================================================================================================================================================================================================================================================================================================================================================================================================================================================================================================================================================================================================================================================================================================================================================================================================================================================================================================================================================================================================================================================================================================================================================================================================================================================================================================================================================================================================================================================================================================================================================================================================================================================================================================================================================================================================================================================================================================================================] - 1s 9ms/sample - loss: 0.1387\n"
     ]
    },
    {
     "data": {
      "text/plain": [
       "0.08446212775177425"
      ]
     },
     "execution_count": 62,
     "metadata": {},
     "output_type": "execute_result"
    }
   ],
   "source": [
    "# Evaluate the model\n",
    "# YOUR CODE HERE!\n",
    "model.evaluate(X_test, y_test)"
   ]
  },
  {
   "cell_type": "code",
   "execution_count": 63,
   "metadata": {},
   "outputs": [],
   "source": [
    "# Make some predictions\n",
    "# YOUR CODE HERE!\n",
    "predicted = model.predict(X_test)"
   ]
  },
  {
   "cell_type": "code",
   "execution_count": 64,
   "metadata": {},
   "outputs": [],
   "source": [
    "# Recover the original prices instead of the scaled version\n",
    "predicted_prices = scaler.inverse_transform(predicted)\n",
    "real_prices = scaler.inverse_transform(y_test.reshape(-1, 1))"
   ]
  },
  {
   "cell_type": "code",
   "execution_count": 65,
   "metadata": {},
   "outputs": [
    {
     "data": {
      "text/html": [
       "<div>\n",
       "<style scoped>\n",
       "    .dataframe tbody tr th:only-of-type {\n",
       "        vertical-align: middle;\n",
       "    }\n",
       "\n",
       "    .dataframe tbody tr th {\n",
       "        vertical-align: top;\n",
       "    }\n",
       "\n",
       "    .dataframe thead th {\n",
       "        text-align: right;\n",
       "    }\n",
       "</style>\n",
       "<table border=\"1\" class=\"dataframe\">\n",
       "  <thead>\n",
       "    <tr style=\"text-align: right;\">\n",
       "      <th></th>\n",
       "      <th>Real</th>\n",
       "      <th>Predicted</th>\n",
       "    </tr>\n",
       "  </thead>\n",
       "  <tbody>\n",
       "    <tr>\n",
       "      <td>0</td>\n",
       "      <td>3670.919922</td>\n",
       "      <td>5612.333008</td>\n",
       "    </tr>\n",
       "    <tr>\n",
       "      <td>1</td>\n",
       "      <td>3912.570068</td>\n",
       "      <td>5571.831055</td>\n",
       "    </tr>\n",
       "    <tr>\n",
       "      <td>2</td>\n",
       "      <td>3924.239990</td>\n",
       "      <td>5632.032715</td>\n",
       "    </tr>\n",
       "    <tr>\n",
       "      <td>3</td>\n",
       "      <td>3974.050049</td>\n",
       "      <td>5678.176270</td>\n",
       "    </tr>\n",
       "    <tr>\n",
       "      <td>4</td>\n",
       "      <td>3937.040039</td>\n",
       "      <td>6164.022461</td>\n",
       "    </tr>\n",
       "  </tbody>\n",
       "</table>\n",
       "</div>"
      ],
      "text/plain": [
       "          Real    Predicted\n",
       "0  3670.919922  5612.333008\n",
       "1  3912.570068  5571.831055\n",
       "2  3924.239990  5632.032715\n",
       "3  3974.050049  5678.176270\n",
       "4  3937.040039  6164.022461"
      ]
     },
     "execution_count": 65,
     "metadata": {},
     "output_type": "execute_result"
    }
   ],
   "source": [
    "# Create a DataFrame of Real and Predicted values\n",
    "stocks = pd.DataFrame({\n",
    "    \"Real\": real_prices.ravel(),\n",
    "    \"Predicted\": predicted_prices.ravel()\n",
    "})\n",
    "stocks.head()"
   ]
  },
  {
   "cell_type": "code",
   "execution_count": 66,
   "metadata": {},
   "outputs": [
    {
     "data": {
      "text/plain": [
       "<matplotlib.axes._subplots.AxesSubplot at 0x28db4f399b0>"
      ]
     },
     "execution_count": 66,
     "metadata": {},
     "output_type": "execute_result"
    },
    {
     "data": {
      "image/png": "[encoded data removed]",
      "text/plain": [
       "<Figure size 432x288 with 1 Axes>"
      ]
     },
     "metadata": {
      "needs_background": "light"
     },
     "output_type": "display_data"
    }
   ],
   "source": [
    "# Plot the real vs predicted values as a line chart\n",
    "# YOUR CODE HERE!\n",
    "stocks.plot()"
   ]
  },
  {
   "cell_type": "code",
   "execution_count": null,
   "metadata": {},
   "outputs": [],
   "source": []
  }
 ],
 "metadata": {
  "file_extension": ".py",
  "kernelspec": {
   "display_name": "Python 3",
   "language": "python",
   "name": "python3"
  },
  "language_info": {
   "codemirror_mode": {
    "name": "ipython",
    "version": 3
   },
   "file_extension": ".py",
   "mimetype": "text/x-python",
   "name": "python",
   "nbconvert_exporter": "python",
   "pygments_lexer": "ipython3",
   "version": "3.7.3"
  },
  "mimetype": "text/x-python",
  "name": "python",
  "npconvert_exporter": "python",
  "pygments_lexer": "ipython3",
  "version": 3
 },
 "nbformat": 4,
 "nbformat_minor": 4
}
